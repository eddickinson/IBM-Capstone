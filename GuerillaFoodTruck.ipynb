{
 "cells": [
  {
   "cell_type": "markdown",
   "metadata": {},
   "source": [
    "# Guerilla Food and Beverage Truck"
   ]
  },
  {
   "cell_type": "markdown",
   "metadata": {},
   "source": [
    "## Introduction"
   ]
  },
  {
   "cell_type": "markdown",
   "metadata": {},
   "source": [
    "Food trucks have become very popular but they tend to restict themselves to particular food types and habitually set up on the same pitch.  This makes the businesses quite conventional, essentially static premises on wheels.  Although this allows the businesses to develop a following, resulting in repeat sales to individuals who might habitually patronize their truck, consumers are notoriously fickle.  For the proposed business I intend to exploit the Foresquare technology to facilitate an original food truck model in which the food truck might appear in unexpected, but busy, locations.  The truck will be associated with the vibe of the particular trending environment but not constrained to operate within any particular genre.  It will sell bacon sandwiched to commuters in the morning, coffee and filled bagels to office workers at lunch time.  It will be a coctail/mocktail bar in the park on a sunny afternoon and a kebab shop serving revellers in the evening.  This will mitigate the capital outlay on the truck and optimally utilize the facilities it offers.   "
   ]
  },
  {
   "cell_type": "markdown",
   "metadata": {},
   "source": [
    "## Buisiness problem"
   ]
  },
  {
   "cell_type": "markdown",
   "metadata": {},
   "source": [
    "The buisiness problem is the problem of predicting where the consumers will be and what there needs will be.  The Foresquare technology will be used to find trending areas which are as local as possible to the current position of the truck and to assess who the clientele might be by assessing the character of the area.  The truck will then be configured to serve those consumers.  Thus the technology will optimize the buisiness' prospects by predicting the need and optimizing the product.  "
   ]
  }
 ],
 "metadata": {
  "kernelspec": {
   "display_name": "Python 3",
   "language": "python",
   "name": "python3"
  },
  "language_info": {
   "codemirror_mode": {
    "name": "ipython",
    "version": 3
   },
   "file_extension": ".py",
   "mimetype": "text/x-python",
   "name": "python",
   "nbconvert_exporter": "python",
   "pygments_lexer": "ipython3",
   "version": "3.7.4"
  }
 },
 "nbformat": 4,
 "nbformat_minor": 2
}

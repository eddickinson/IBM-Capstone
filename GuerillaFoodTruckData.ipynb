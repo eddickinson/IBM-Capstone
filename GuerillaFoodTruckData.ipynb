{
 "cells": [
  {
   "cell_type": "markdown",
   "metadata": {},
   "source": [
    "# Guerilla Food and Beverage Truck"
   ]
  },
  {
   "cell_type": "markdown",
   "metadata": {},
   "source": [
    "## Data"
   ]
  },
  {
   "cell_type": "markdown",
   "metadata": {},
   "source": [
    "I will be using the Foresquare trending facility to identify locally trending venues and locations as prospective sites for the Guerilla Food Truck.  The capacity to collate types of venues at that location will be used to predict the optimal product to offer at that site.  Other possibilities for enhancing the predictive power of the model will include examining environmental information such as weather, pollution, pollen count etc. that might be acquired from open datasources."
   ]
  }
 ],
 "metadata": {
  "kernelspec": {
   "display_name": "Python 3",
   "language": "python",
   "name": "python3"
  },
  "language_info": {
   "codemirror_mode": {
    "name": "ipython",
    "version": 3
   },
   "file_extension": ".py",
   "mimetype": "text/x-python",
   "name": "python",
   "nbconvert_exporter": "python",
   "pygments_lexer": "ipython3",
   "version": "3.7.4"
  }
 },
 "nbformat": 4,
 "nbformat_minor": 2
}
